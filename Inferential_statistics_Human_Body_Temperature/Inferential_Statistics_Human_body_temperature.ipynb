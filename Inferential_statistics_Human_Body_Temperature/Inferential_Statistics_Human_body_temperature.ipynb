{
 "cells": [
  {
   "cell_type": "markdown",
   "metadata": {},
   "source": [
    "# What is the True Normal Human Body Temperature? \n",
    "\n",
    "#### Background\n",
    "\n",
    "The mean normal body temperature was held to be 37$^{\\circ}$C or 98.6$^{\\circ}$F for more than 120 years since it was first conceptualized and reported by Carl Wunderlich in a famous 1868 book. But, is this value statistically correct?"
   ]
  },
  {
   "cell_type": "markdown",
   "metadata": {},
   "source": [
    "# <h3>Exercises</h3>\n",
    "\n",
    "<p>In this exercise, you will analyze a dataset of human body temperatures and employ the concepts of hypothesis testing, confidence intervals, and statistical significance.</p>\n",
    "\n",
    "<p>Answer the following questions <b>in this notebook below and submit to your Github account</b>.</p> \n",
    "\n",
    "<ol>\n",
    "<li>  Is the distribution of body temperatures normal? \n",
    "    <ul>\n",
    "    <li> Although this is not a requirement for the Central Limit Theorem to hold (read the introduction on Wikipedia's page about the CLT carefully: https://en.wikipedia.org/wiki/Central_limit_theorem), it gives us some peace of mind that the population may also be normally distributed if we assume that this sample is representative of the population.\n",
    "    <li> Think about the way you're going to check for the normality of the distribution. Graphical methods are usually used first, but there are also other ways: https://en.wikipedia.org/wiki/Normality_test\n",
    "    </ul>\n",
    "<li>  Is the sample size large? Are the observations independent?\n",
    "    <ul>\n",
    "    <li> Remember that this is a condition for the Central Limit Theorem, and hence the statistical tests we are using, to apply.\n",
    "    </ul>\n",
    "<li>  Is the true population mean really 98.6 degrees F?\n",
    "    <ul>\n",
    "    <li> First, try a bootstrap hypothesis test.\n",
    "    <li> Now, let's try frequentist statistical testing. Would you use a one-sample or two-sample test? Why?\n",
    "    <li> In this situation, is it appropriate to use the $t$ or $z$ statistic? \n",
    "    <li> Now try using the other test. How is the result be different? Why?\n",
    "    </ul>\n",
    "<li>  Draw a small sample of size 10 from the data and repeat both frequentist tests. \n",
    "    <ul>\n",
    "    <li> Which one is the correct one to use? \n",
    "    <li> What do you notice? What does this tell you about the difference in application of the $t$ and $z$ statistic?\n",
    "    </ul>\n",
    "<li>  At what temperature should we consider someone's temperature to be \"abnormal\"?\n",
    "    <ul>\n",
    "    <li> As in the previous example, try calculating everything using the boostrap approach, as well as the frequentist approach.\n",
    "    <li> Start by computing the margin of error and confidence interval. When calculating the confidence interval, keep in mind that you should use the appropriate formula for one draw, and not N draws.\n",
    "    </ul>\n",
    "<li>  Is there a significant difference between males and females in normal temperature?\n",
    "    <ul>\n",
    "    <li> What testing approach did you use and why?\n",
    "    <li> Write a story with your conclusion in the context of the original problem.\n",
    "    </ul>\n",
    "</ol>\n",
    "\n",
    "You can include written notes in notebook cells using Markdown: \n",
    "   - In the control panel at the top, choose Cell > Cell Type > Markdown\n",
    "   - Markdown syntax: http://nestacms.com/docs/creating-content/markdown-cheat-sheet\n",
    "\n",
    "#### Resources\n",
    "\n",
    "+ Information and data sources: http://www.amstat.org/publications/jse/datasets/normtemp.txt, http://www.amstat.org/publications/jse/jse_data_archive.htm\n",
    "+ Markdown syntax: http://nestacms.com/docs/creating-content/markdown-cheat-sheet\n",
    "\n",
    "****"
   ]
  },
  {
   "cell_type": "code",
   "execution_count": 24,
   "metadata": {},
   "outputs": [
    {
     "name": "stdout",
     "output_type": "stream",
     "text": [
      "   temperature gender  heart_rate\n",
      "0         99.3      F        68.0\n",
      "1         98.4      F        81.0\n",
      "2         97.8      M        73.0\n",
      "3         99.2      F        66.0\n",
      "4         98.0      F        73.0\n"
     ]
    }
   ],
   "source": [
    "import pandas as pd\n",
    "import numpy as np\n",
    "import matplotlib.pyplot as plt\n",
    "import seaborn as sns\n",
    "import warnings\n",
    "warnings.filterwarnings('ignore')\n",
    "%matplotlib inline\n",
    "df = pd.read_csv('data/human_body_temperature.csv')\n",
    "print(df[:5])"
   ]
  },
  {
   "cell_type": "markdown",
   "metadata": {
    "collapsed": true
   },
   "source": [
    "# Your work here.\n",
    "#Is the distribution of body temperatures normal?\n",
    "\n",
    "According to CLT :- suppose that a sample is obtained containing a large number of observations, \n",
    "each observation being randomly generated in a way that does not depend on the values of the other observations(Independence), \n",
    "and the mean of the observed values is computed. If this procedure is performed many times,\n",
    "the central limit theorem says that the distribution of the average will be closely approximated by a normal distribution.\n",
    "So here our sample is large and also a representative of population, so acc to CLT distribution of body temeratures is normal.\n",
    "\n",
    "# Another way to Test Normality\n",
    "\n",
    "QQ Plot :- \n",
    "A graphical tool for assessing normality is the quantile-quantile plot (QQ plot) of the standardized data against the standard normal distribution. Here the correlation between the sample data and normal quantiles is a measure of the goodness of fit measures how well the data are modeled by a normal distribution. For normal data the points plotted in the QQ plot should fall approximately on a straight line, indicating high positive correlation. These plots are easy to interpret and also have the benefit that outliers are easily identified.\n"
   ]
  },
  {
   "cell_type": "code",
   "execution_count": 25,
   "metadata": {},
   "outputs": [
    {
     "data": {
      "image/png": "[encoded data removed]",
      "text/plain": [
       "<Figure size 432x288 with 1 Axes>"
      ]
     },
     "metadata": {
      "needs_background": "light"
     },
     "output_type": "display_data"
    },
    {
     "data": {
      "image/png": "[encoded data removed]",
      "text/plain": [
       "<Figure size 432x288 with 1 Axes>"
      ]
     },
     "metadata": {
      "needs_background": "light"
     },
     "output_type": "display_data"
    }
   ],
   "source": [
    "## Check cdf and ecdf of samples with normal ditribution:- \n",
    "from statsmodels.distributions.empirical_distribution import ECDF\n",
    "def ecdf(x):\n",
    "    xs = np.sort(x)\n",
    "    ys = np.arange(1, len(xs)+1)/float(len(xs))\n",
    "    return xs, ys\n",
    "data = df['temperature']\n",
    "mu = np.mean(data)\n",
    "sigma = np.std(data)\n",
    "\n",
    "# Sample out of a normal distribution with this mu and sigma: samples\n",
    "samples = np.random.normal(mu,sigma, size = 10000)\n",
    "\n",
    "# Get the CDF of the samples and of the data\n",
    "x_theor,y_theor = ecdf(samples)\n",
    "x,y= ecdf(data)\n",
    "\n",
    "# Plot the CDFs and show the plot\n",
    "_ = plt.plot(x_theor, y_theor)\n",
    "_ = plt.plot(x, y, marker='.', linestyle='none')\n",
    "_ = plt.xlabel('Temperature')\n",
    "_ = plt.ylabel('ECDF')\n",
    "plt.show()\n",
    "ax = sns.distplot(df['temperature'])"
   ]
  },
  {
   "cell_type": "markdown",
   "metadata": {},
   "source": [
    "Above is the ECDF plot to check the condition of Normality,we can see here ecdf of data and ecdf of normal distribution lies on each other, therefore data follows Normal Distribution."
   ]
  },
  {
   "cell_type": "code",
   "execution_count": 8,
   "metadata": {},
   "outputs": [
    {
     "data": {
      "image/png": "[encoded data removed]",
      "text/plain": [
       "<Figure size 432x288 with 1 Axes>"
      ]
     },
     "metadata": {
      "needs_background": "light"
     },
     "output_type": "display_data"
    }
   ],
   "source": [
    "# QQPlot:- Equivalent to Probability plot\n",
    "import numpy as np\n",
    "import pylab\n",
    "import matplotlib.pyplot as plt\n",
    "import scipy.stats as stats\n",
    "\n",
    "data = df['temperature']\n",
    "stats.probplot(data,dist = 'norm', plot = pylab)\n",
    "plt.title(\"Normal QQ Plot\")\n",
    "plt.ylabel(\"Data quantiles\")\n",
    "pylab.show()"
   ]
  },
  {
   "cell_type": "markdown",
   "metadata": {},
   "source": [
    "Here from the above Graph we can see that data quantiles lies approximately on the straight line so the temperature data is normally distributed."
   ]
  },
  {
   "cell_type": "markdown",
   "metadata": {},
   "source": [
    "# Q2: -Is the sample size large? Are the observations independent?\n",
    "Yes, The sample size of 130 observations is sufficiently large because our sample size is greater than 30, the Central Limit Theorem tells us that the sampling distribution will approximate a normal distribution.\n",
    "# To check Independence:- \n",
    "We can use here 1% rule:- As from whole population only 130 observations are taken under consideration which is less that 10% of population then we can treat each observation as independent.\n",
    "Also it's reasonable to assume independence considering each person is selected randomly and they shouldn't influence each other's results."
   ]
  },
  {
   "cell_type": "code",
   "execution_count": 19,
   "metadata": {},
   "outputs": [
    {
     "name": "stdout",
     "output_type": "stream",
     "text": [
      "P-value = 0.0\n"
     ]
    }
   ],
   "source": [
    "## Q3:- Is the true population mean really 98.6 degrees F?  # Bootstrap hypothesis testing\n",
    "#Null Hypothesis - The true mean temperature = 98.6 F\n",
    "#Alternative Hypothesis - The True mean temperature is not 98.6F(some different value than 98.6)\n",
    "true_pop_mean = 98.6\n",
    "data = df['temperature']\n",
    "## Shifting the data to new temperature mean value\n",
    "new_mean = 98.6\n",
    "temp_shifted = data - np.mean(data) + new_mean\n",
    "\n",
    "## The test Statistic for our testing is as follows\n",
    "def diff_from_new(data1,new_mean = 98.6):\n",
    "    return np.mean(data1) - new_mean\n",
    "\n",
    "# Bootstrap Sample \n",
    "def bootstrap_replicate_1d(data,func):\n",
    "    bs_sample = np.random.choice(data,len(data))\n",
    "    return func(bs_sample)\n",
    "bs_replicates = np.empty(10000)\n",
    "for i in range(10000):\n",
    "    bs_replicates[i] = bootstrap_replicate_1d(temp_shifted,diff_from_new)\n",
    "    \n",
    "differnce_in_obs = diff_from_new(data,new_mean = 98.6)    \n",
    "    \n",
    "## Pvalue\n",
    "p_value = np.sum(bs_replicates <= differnce_in_obs)/10000\n",
    "print(\"P-value =\",p_value)\n",
    "    "
   ]
  },
  {
   "cell_type": "markdown",
   "metadata": {},
   "source": [
    "As p value = 0, it means we fail to reject null hypothesis at 95% significance interval So we can say that true mean temperature may be equal to 98.6."
   ]
  },
  {
   "cell_type": "markdown",
   "metadata": {},
   "source": [
    "## Now, let's try frequentist statistical testing. Would you use a one-sample or two-sample test? Why?\n",
    " \n",
    "## In this situation, is it appropriate to use the  t  or  z  statistic?\n",
    "## Now try using the other test. How is the result be different? Why?"
   ]
  },
  {
   "cell_type": "markdown",
   "metadata": {},
   "source": [
    "We will use here one sample test as we have only one sample of dataset with specific mean to test with.\n",
    "we will use t test to test the hypothesis(to find any evidence of a significant difference between the population mean and a hypothesized value)."
   ]
  },
  {
   "cell_type": "code",
   "execution_count": 22,
   "metadata": {},
   "outputs": [
    {
     "name": "stdout",
     "output_type": "stream",
     "text": [
      "Ttest_1sampResult(statistic=-5.4548232923645195, pvalue=2.4106320415561276e-07)\n"
     ]
    }
   ],
   "source": [
    "## T test\n",
    "data = df['temperature']\n",
    "from scipy import stats\n",
    "ttest_result = stats.ttest_1samp(data,98.6)\n",
    "print(ttest_result)"
   ]
  },
  {
   "cell_type": "markdown",
   "metadata": {},
   "source": [
    "The p value is very small than our Test Statistic, then with great evidence we can reject our null hypothesis of true mean equal to 98.6 and says that the statement of true mean temperature is different from 98.6 is statistically significant.\n",
    "There is huge difference between two conclusions, with Bootstrap hypothesis testing we are concluding true mean temp. is equal to 98.6 but with t test testing we are concluding true mean temp. is different from 98.6."
   ]
  },
  {
   "cell_type": "markdown",
   "metadata": {},
   "source": [
    "## Q4:- Draw a small sample of size 10 from the data and repeat both frequentist tests.\n",
    "## Which one is the correct one to use?\n",
    "## What do you notice? What does this tell you about the difference in application of the  t  and  z  statistic?"
   ]
  },
  {
   "cell_type": "code",
   "execution_count": 41,
   "metadata": {},
   "outputs": [],
   "source": [
    "# generate random sample\n",
    "sample = np.random.choice(df['temperature'], size=10)"
   ]
  },
  {
   "cell_type": "code",
   "execution_count": 42,
   "metadata": {},
   "outputs": [
    {
     "name": "stdout",
     "output_type": "stream",
     "text": [
      "Ttest_1sampResult(statistic=-3.8002282059560346, pvalue=0.004215887588869701)\n"
     ]
    }
   ],
   "source": [
    "ttest_result = stats.ttest_1samp(sample,98.6)\n",
    "print(ttest_result)"
   ]
  },
  {
   "cell_type": "code",
   "execution_count": 43,
   "metadata": {},
   "outputs": [
    {
     "name": "stdout",
     "output_type": "stream",
     "text": [
      "(-3.8002282059560346, 0.0001445628975552748)\n"
     ]
    }
   ],
   "source": [
    "from statsmodels.stats.weightstats import ztest\n",
    "ztest_result = ztest(x1 = sample, value = 98.6)\n",
    "print(ztest_result)"
   ]
  },
  {
   "cell_type": "markdown",
   "metadata": {},
   "source": [
    "The z-test was significant (p-val < 0.05) while the t-test was not. The z-test is appropiate to use \n",
    "here because we're pulling samplpe from a population (dataset) who's standard deviation is known."
   ]
  },
  {
   "cell_type": "markdown",
   "metadata": {},
   "source": [
    "## Q5 :- At what temperature should we consider someone's temperature to be \"abnormal\"?"
   ]
  },
  {
   "cell_type": "code",
   "execution_count": 44,
   "metadata": {},
   "outputs": [
    {
     "name": "stdout",
     "output_type": "stream",
     "text": [
      "95% confidence interval: (96.81775582674824, 99.68070571171332)\n"
     ]
    }
   ],
   "source": [
    "# calculate 95% confidence interval\n",
    "conf_int = stats.norm.interval(alpha=0.95, loc=np.mean(df['temperature']), scale=np.std(df['temperature']))\n",
    "\n",
    "print('95% confidence interval:',conf_int)"
   ]
  },
  {
   "cell_type": "markdown",
   "metadata": {},
   "source": [
    "We will consider \"abnormal\" if the temperature is below 96.8 and above 99.68"
   ]
  },
  {
   "cell_type": "markdown",
   "metadata": {},
   "source": [
    "## Q6 :- Is there a significant difference between males and females in normal temperature?\n",
    "## What testing approach did you use and why?\n",
    "## Write a story with your conclusion in the context of the original problem."
   ]
  },
  {
   "cell_type": "code",
   "execution_count": 45,
   "metadata": {},
   "outputs": [],
   "source": [
    "# get male and female temperature scores\n",
    "male_temps = df[df['gender'] == 'M'].temperature\n",
    "female_temps = df[df['gender'] == 'F'].temperature"
   ]
  },
  {
   "cell_type": "markdown",
   "metadata": {},
   "source": [
    "WE will be using two Sample test because we want to know the difference between two quatiles and will use t-test here as we don't know the population Std deviation. \n",
    "\n",
    "Setting up the hypothesis:- \n",
    "\n",
    "Null - There is no difference between between Males and Females in normal Temperature.\n",
    "\n",
    "Alternative :- There is difference between both gender's temperature"
   ]
  },
  {
   "cell_type": "code",
   "execution_count": 46,
   "metadata": {},
   "outputs": [
    {
     "name": "stdout",
     "output_type": "stream",
     "text": [
      "Ttest_indResult(statistic=-2.2854345381656103, pvalue=0.02393188312239561)\n"
     ]
    }
   ],
   "source": [
    "# conduct two-sample t-test (justification above)\n",
    "from scipy.stats import ttest_ind\n",
    "ttest_result= ttest_ind(male_temps, female_temps)\n",
    "\n",
    "print(ttest_result)"
   ]
  },
  {
   "cell_type": "markdown",
   "metadata": {},
   "source": [
    "The p value is less than significance level of 0.05,so we reject our null hypothesis and says that the difference between Males and Females in normal Temperature is statistically significant.\n",
    "\n",
    "Analysis Conclusion:- \n",
    "\n",
    "1) All in all, it appears that the true normal body temperature varies from 98.6 F\n",
    "\n",
    "2) And should only be considered \"abnormal\" if it varies outside the range of 96.81-99.68.\n",
    "\n",
    "3) Finally, there's evidence in the data that there is a statistically significant difference between males and females in normal body temperatures."
   ]
  }
 ],
 "metadata": {
  "kernelspec": {
   "display_name": "Python 3",
   "language": "python",
   "name": "python3"
  },
  "language_info": {
   "codemirror_mode": {
    "name": "ipython",
    "version": 3
   },
   "file_extension": ".py",
   "mimetype": "text/x-python",
   "name": "python",
   "nbconvert_exporter": "python",
   "pygments_lexer": "ipython3",
   "version": "3.7.0"
  }
 },
 "nbformat": 4,
 "nbformat_minor": 1
}
