{
 "cells": [
  {
   "cell_type": "markdown",
   "metadata": {},
   "source": [
    "## Quandl API Based Project\n",
    "These are your tasks for this project:\n",
    "\n",
    "Collect data from the Franfurt Stock Exchange, for the ticker AFX_X, for the whole year 2017 (keep in mind that the date format is YYYY-MM-DD).\n",
    "Convert the returned JSON object into a Python dictionary.\n",
    "Calculate what the highest and lowest opening prices were for the stock in this period.\n",
    "What was the largest change in any one day (based on High and Low price)?\n",
    "What was the largest change between any two days (based on Closing Price)?\n",
    "What was the average daily trading volume during this year?\n",
    "(Optional) What was the median trading volume during this year. (Note: you may need to implement your own function for calculating the median.)"
   ]
  },
  {
   "cell_type": "code",
   "execution_count": null,
   "metadata": {},
   "outputs": [],
   "source": [
    "# Store the API key as a string - according to PEP8, constants are always named in all upper case\n",
    "API_KEY = 'XXXXXXXX'"
   ]
  },
  {
   "cell_type": "code",
   "execution_count": 230,
   "metadata": {},
   "outputs": [],
   "source": [
    "# First, import the relevant modules\n",
    "import requests\n",
    "import json\n",
    "import pandas as pd\n",
    "import numpy as np"
   ]
  },
  {
   "cell_type": "code",
   "execution_count": 141,
   "metadata": {},
   "outputs": [
    {
     "name": "stdout",
     "output_type": "stream",
     "text": [
      "<class 'dict'>\n"
     ]
    }
   ],
   "source": [
    "#Collect data from the Franfurt Stock Exchange, for the ticker AFX_X, for the whole year 2017 \n",
    "#(keep in mind that the date format is YYYY-MM-DD).\n",
    "url = 'https://www.quandl.com/api/v3/datasets/FSE/AFX_X.json?api_key=xxxxxxxxxxxxx6&start_date=2017-01-01&end_date=2017-12-31'\n",
    "r = requests.get(url)\n",
    "#print(r.text)\n",
    "json_data = r.json()    #Convert the returned JSON object into a Python dictionary.\n",
    "print(type(json_data))"
   ]
  },
  {
   "cell_type": "code",
   "execution_count": 182,
   "metadata": {},
   "outputs": [
    {
     "name": "stdout",
     "output_type": "stream",
     "text": [
      "         Date   Open   High    Low  Close  Change  Traded Volume   Turnover  \\\n",
      "0  2017-12-29  51.76  51.94  51.45  51.76     NaN        34640.0  1792304.0   \n",
      "1  2017-12-28  51.65  51.82  51.43  51.60     NaN        40660.0  2099024.0   \n",
      "2  2017-12-27  51.45  51.89  50.76  51.82     NaN        57452.0  2957018.0   \n",
      "3  2017-12-22  51.05  51.50  50.92  51.32     NaN        71165.0  3641949.0   \n",
      "4  2017-12-21  51.16  51.52  50.90  51.40     NaN       120649.0  6179433.0   \n",
      "\n",
      "  Last Price of the Day Daily Traded Units Daily Turnover  \n",
      "0                  None               None           None  \n",
      "1                  None               None           None  \n",
      "2                  None               None           None  \n",
      "3                  None               None           None  \n",
      "4                  None               None           None  \n"
     ]
    }
   ],
   "source": [
    "## to convert the columns in DataFrame \n",
    "data_cols=json_data['dataset']['column_names']\n",
    "data_rows = json_data['dataset']['data']\n",
    "df = pd.DataFrame(data_rows,columns = data_cols)\n",
    "print(df.head())"
   ]
  },
  {
   "cell_type": "code",
   "execution_count": 142,
   "metadata": {},
   "outputs": [
    {
     "name": "stdout",
     "output_type": "stream",
     "text": [
      "The highest opening Price is : 53.11\n",
      "The lowest opening Price is : 34.0\n"
     ]
    }
   ],
   "source": [
    "#Calculate what the highest and lowest opening prices were for the stock in this period.\n",
    "open = [data[1] for data in json_data['dataset']['data'] if data[1] != None]\n",
    "print(\"The highest opening Price is :\",max(open))\n",
    "print(\"The lowest opening Price is :\",min(open))"
   ]
  },
  {
   "cell_type": "code",
   "execution_count": 235,
   "metadata": {},
   "outputs": [
    {
     "name": "stdout",
     "output_type": "stream",
     "text": [
      "The largest change is: 2.81\n"
     ]
    }
   ],
   "source": [
    "#What was the largest change in any one day (based on High and Low price)?\n",
    "df[\"Diff\"] = np.abs(df.High - df.Low)\n",
    "price = round(df[\"Diff\"].max(),2)\n",
    "print(\"The largest change is:\", price)"
   ]
  },
  {
   "cell_type": "code",
   "execution_count": 246,
   "metadata": {},
   "outputs": [
    {
     "name": "stdout",
     "output_type": "stream",
     "text": [
      "The largest Change is: 2.56\n"
     ]
    }
   ],
   "source": [
    "#What was the largest change between any two days (based on Closing Price)?\n",
    "#Closing_price_diff = round(df['Close'].diff().max(),2)\n",
    "#print(\"The max Price difference is\",Closing_price_diff)\n",
    "df['close_lag'] = df.Close.shift(1)\n",
    "df['close_lag_diff'] = (df.Close - df.close_lag)\n",
    "#print(df)\n",
    "Closing_price_diff = round(df['close_lag_diff'].max(),2)\n",
    "print(\"The largest Change is:\",Closing_price_diff)"
   ]
  },
  {
   "cell_type": "code",
   "execution_count": 180,
   "metadata": {},
   "outputs": [
    {
     "name": "stdout",
     "output_type": "stream",
     "text": [
      "The Average Traded volume per day: 89124.3\n"
     ]
    }
   ],
   "source": [
    "#What was the average daily trading volume during this year?\n",
    "Traded_Volume = round(df[\"Traded Volume\"].mean(),1)\n",
    "print(\"The Average Traded volume per day:\", Traded_Volume)"
   ]
  },
  {
   "cell_type": "code",
   "execution_count": 226,
   "metadata": {},
   "outputs": [
    {
     "name": "stdout",
     "output_type": "stream",
     "text": [
      "The median of Traded volume: 76286.0\n"
     ]
    }
   ],
   "source": [
    "#What was the median trading volume during this year.\n",
    "Traded_Volume = round(df[\"Traded Volume\"].median(),1)\n",
    "print(\"The median of Traded volume:\", Traded_Volume)"
   ]
  }
 ],
 "metadata": {
  "kernelspec": {
   "display_name": "Python 3",
   "language": "python",
   "name": "python3"
  },
  "language_info": {
   "codemirror_mode": {
    "name": "ipython",
    "version": 3
   },
   "file_extension": ".py",
   "mimetype": "text/x-python",
   "name": "python",
   "nbconvert_exporter": "python",
   "pygments_lexer": "ipython3",
   "version": "3.7.0"
  }
 },
 "nbformat": 4,
 "nbformat_minor": 2
}
