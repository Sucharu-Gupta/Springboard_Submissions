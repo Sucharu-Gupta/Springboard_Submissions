{
 "cells": [
  {
   "cell_type": "markdown",
   "metadata": {},
   "source": [
    " ## JSON DATA WRANGLING FIRST ASSIGNMENT \n",
    "JSON exercise\n",
    "Using data in file 'data/world_bank_projects.json' and the techniques demonstrated above,\n",
    "\n",
    "Q1:- Find the 10 countries with most projects\n",
    "Q2:- Find the top 10 major project themes (using column 'mjtheme_namecode')\n",
    "Q3:-In 2. above you will notice that some entries have only the code and the name is missing. Create a dataframe with the missing names filled in."
   ]
  },
  {
   "cell_type": "code",
   "execution_count": 70,
   "metadata": {},
   "outputs": [],
   "source": [
    "# Importing and Reading Json files in dataFrame format\n",
    "import pandas as pd\n",
    "import numpy as np\n",
    "from pandas.io.json import json_normalize\n",
    "world_bank_json_df = pd.read_json('C:\\\\Users\\\\sucha\\\\Downloads\\\\data_wrangling_json\\\\data_wrangling_json\\\\data\\\\world_bank_projects.json')"
   ]
  },
  {
   "cell_type": "code",
   "execution_count": 15,
   "metadata": {},
   "outputs": [
    {
     "data": {
      "text/plain": [
       "Index(['_id', 'approvalfy', 'board_approval_month', 'boardapprovaldate',\n",
       "       'borrower', 'closingdate', 'country_namecode', 'countrycode',\n",
       "       'countryname', 'countryshortname', 'docty', 'envassesmentcategorycode',\n",
       "       'grantamt', 'ibrdcommamt', 'id', 'idacommamt', 'impagency',\n",
       "       'lendinginstr', 'lendinginstrtype', 'lendprojectcost',\n",
       "       'majorsector_percent', 'mjsector_namecode', 'mjtheme',\n",
       "       'mjtheme_namecode', 'mjthemecode', 'prodline', 'prodlinetext',\n",
       "       'productlinetype', 'project_abstract', 'project_name', 'projectdocs',\n",
       "       'projectfinancialtype', 'projectstatusdisplay', 'regionname', 'sector',\n",
       "       'sector1', 'sector2', 'sector3', 'sector4', 'sector_namecode',\n",
       "       'sectorcode', 'source', 'status', 'supplementprojectflg', 'theme1',\n",
       "       'theme_namecode', 'themecode', 'totalamt', 'totalcommamt', 'url'],\n",
       "      dtype='object')"
      ]
     },
     "execution_count": 15,
     "metadata": {},
     "output_type": "execute_result"
    }
   ],
   "source": [
    "world_bank_json_df.columns   ## Checking the names of columns/variables present in dataset"
   ]
  },
  {
   "cell_type": "markdown",
   "metadata": {},
   "source": [
    "Q1: - Find the 10 countries with most projects"
   ]
  },
  {
   "cell_type": "code",
   "execution_count": 63,
   "metadata": {},
   "outputs": [
    {
     "data": {
      "text/plain": [
       "People's Republic of China         19\n",
       "Republic of Indonesia              19\n",
       "Socialist Republic of Vietnam      17\n",
       "Republic of India                  16\n",
       "Republic of Yemen                  13\n",
       "People's Republic of Bangladesh    12\n",
       "Nepal                              12\n",
       "Kingdom of Morocco                 12\n",
       "Republic of Mozambique             11\n",
       "Africa                             11\n",
       "Name: countryname, dtype: int64"
      ]
     },
     "execution_count": 63,
     "metadata": {},
     "output_type": "execute_result"
    }
   ],
   "source": [
    "# using value_counts function based on :- Series.value_counts(normalize=False, sort=True, ascending=False, bins=None, dropna=True)\n",
    "world_bank_json_df['countryname'].value_counts().head(10)    "
   ]
  },
  {
   "cell_type": "markdown",
   "metadata": {},
   "source": [
    "Q2:- Find the top 10 major project themes (using column 'mjtheme_namecode')"
   ]
  },
  {
   "cell_type": "code",
   "execution_count": 66,
   "metadata": {},
   "outputs": [
    {
     "data": {
      "text/plain": [
       "Environment and natural resources management    223\n",
       "Rural development                               202\n",
       "Human development                               197\n",
       "Public sector governance                        184\n",
       "Social protection and risk management           158\n",
       "Financial and private sector development        130\n",
       "                                                122\n",
       "Social dev/gender/inclusion                     119\n",
       "Trade and integration                            72\n",
       "Urban development                                47\n",
       "Economic management                              33\n",
       "Name: name, dtype: int64"
      ]
     },
     "execution_count": 66,
     "metadata": {},
     "output_type": "execute_result"
    }
   ],
   "source": [
    "json_file = json.load(open('C:\\\\Users\\\\sucha\\\\Downloads\\\\data_wrangling_json\\\\data_wrangling_json\\\\data\\\\world_bank_projects.json'))\n",
    "df2 = json_normalize(json_file,'mjtheme_namecode',['id'])        # Normalize theme column to flatten the list of dicts\n",
    "df2['name'].value_counts().head(11)"
   ]
  },
  {
   "cell_type": "markdown",
   "metadata": {},
   "source": [
    "Q3 :- In 2. above you will notice that some entries have only the code and the name is missing. Create a dataframe with the missing names filled in."
   ]
  },
  {
   "cell_type": "code",
   "execution_count": 74,
   "metadata": {},
   "outputs": [
    {
     "data": {
      "text/html": [
       "<div>\n",
       "<style scoped>\n",
       "    .dataframe tbody tr th:only-of-type {\n",
       "        vertical-align: middle;\n",
       "    }\n",
       "\n",
       "    .dataframe tbody tr th {\n",
       "        vertical-align: top;\n",
       "    }\n",
       "\n",
       "    .dataframe thead th {\n",
       "        text-align: right;\n",
       "    }\n",
       "</style>\n",
       "<table border=\"1\" class=\"dataframe\">\n",
       "  <thead>\n",
       "    <tr style=\"text-align: right;\">\n",
       "      <th></th>\n",
       "      <th>project_theme</th>\n",
       "      <th>total_number</th>\n",
       "    </tr>\n",
       "  </thead>\n",
       "  <tbody>\n",
       "    <tr>\n",
       "      <th>1</th>\n",
       "      <td>Environment and natural resources management</td>\n",
       "      <td>250</td>\n",
       "    </tr>\n",
       "    <tr>\n",
       "      <th>6</th>\n",
       "      <td>Rural development</td>\n",
       "      <td>216</td>\n",
       "    </tr>\n",
       "    <tr>\n",
       "      <th>3</th>\n",
       "      <td>Human development</td>\n",
       "      <td>210</td>\n",
       "    </tr>\n",
       "    <tr>\n",
       "      <th>4</th>\n",
       "      <td>Public sector governance</td>\n",
       "      <td>199</td>\n",
       "    </tr>\n",
       "    <tr>\n",
       "      <th>8</th>\n",
       "      <td>Social protection and risk management</td>\n",
       "      <td>168</td>\n",
       "    </tr>\n",
       "    <tr>\n",
       "      <th>2</th>\n",
       "      <td>Financial and private sector development</td>\n",
       "      <td>146</td>\n",
       "    </tr>\n",
       "    <tr>\n",
       "      <th>7</th>\n",
       "      <td>Social dev/gender/inclusion</td>\n",
       "      <td>130</td>\n",
       "    </tr>\n",
       "    <tr>\n",
       "      <th>9</th>\n",
       "      <td>Trade and integration</td>\n",
       "      <td>77</td>\n",
       "    </tr>\n",
       "    <tr>\n",
       "      <th>10</th>\n",
       "      <td>Urban development</td>\n",
       "      <td>50</td>\n",
       "    </tr>\n",
       "    <tr>\n",
       "      <th>0</th>\n",
       "      <td>Economic management</td>\n",
       "      <td>38</td>\n",
       "    </tr>\n",
       "  </tbody>\n",
       "</table>\n",
       "</div>"
      ],
      "text/plain": [
       "                                   project_theme  total_number\n",
       "1   Environment and natural resources management           250\n",
       "6                              Rural development           216\n",
       "3                              Human development           210\n",
       "4                       Public sector governance           199\n",
       "8          Social protection and risk management           168\n",
       "2       Financial and private sector development           146\n",
       "7                    Social dev/gender/inclusion           130\n",
       "9                          Trade and integration            77\n",
       "10                             Urban development            50\n",
       "0                            Economic management            38"
      ]
     },
     "execution_count": 74,
     "metadata": {},
     "output_type": "execute_result"
    }
   ],
   "source": [
    "t = df2.sort_values('code')                                         # sorted the dataframe \n",
    "t['name'] = t.name.replace('', method='pad')                      # using method pad to fill NANs for missing names\n",
    "t = t.groupby('name', as_index=False)['name'].agg({'total_number' : np.size})  # used groupby and aggregate on total count\n",
    "t = t.rename(columns={'name': 'project_theme'})                              # changed column names \n",
    "t.sort_values(by='total_number', ascending=False).head(10)              # sorted in descending order and print out 10 rows"
   ]
  },
  {
   "cell_type": "code",
   "execution_count": null,
   "metadata": {},
   "outputs": [],
   "source": []
  }
 ],
 "metadata": {
  "kernelspec": {
   "display_name": "Python 3",
   "language": "python",
   "name": "python3"
  },
  "language_info": {
   "codemirror_mode": {
    "name": "ipython",
    "version": 3
   },
   "file_extension": ".py",
   "mimetype": "text/x-python",
   "name": "python",
   "nbconvert_exporter": "python",
   "pygments_lexer": "ipython3",
   "version": "3.7.0"
  }
 },
 "nbformat": 4,
 "nbformat_minor": 2
}
